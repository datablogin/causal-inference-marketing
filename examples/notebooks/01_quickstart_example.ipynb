{
 "cells": [
  {
   "cell_type": "markdown",
   "metadata": {},
   "source": [
    "# Quickstart Example: Email Campaign Causal Analysis\n",
    "\n",
    "This notebook demonstrates the basic usage of the causal inference library with a synthetic marketing dataset."
   ]
  },
  {
   "cell_type": "code",
   "execution_count": null,
   "metadata": {},
   "outputs": [],
   "source": [
    "# Import required libraries\n",
    "import numpy as np\n",
    "import pandas as pd\n",
    "\n",
    "from causal_inference.core import CovariateData, OutcomeData, TreatmentData\n",
    "from causal_inference.estimators import GComputation"
   ]
  },
  {
   "cell_type": "markdown",
   "metadata": {},
   "source": [
    "## Step 1: Generate Synthetic Marketing Data\n",
    "\n",
    "We'll create a synthetic dataset that mimics real marketing campaign data."
   ]
  },
  {
   "cell_type": "code",
   "execution_count": null,
   "metadata": {},
   "outputs": [],
   "source": [
    "# Set random seed for reproducibility\n",
    "np.random.seed(42)\n",
    "n = 1000\n",
    "\n",
    "# Customer characteristics\n",
    "age = np.random.normal(40, 15, n)\n",
    "income = np.random.normal(50000, 20000, n)\n",
    "previous_purchases = np.random.poisson(3, n)\n",
    "\n",
    "# Email campaign assignment (treatment)\n",
    "# Higher income customers more likely to be targeted\n",
    "email_prob = 0.3 + 0.3 * (income > 50000)\n",
    "email_campaign = np.random.binomial(1, email_prob, n)\n",
    "\n",
    "# Conversion outcome\n",
    "# Both email and customer characteristics affect conversion\n",
    "conversion_prob = (\n",
    "    0.1  # baseline conversion\n",
    "    + 0.15 * email_campaign  # email effect\n",
    "    + 0.0001 * income  # income effect\n",
    "    + 0.02 * previous_purchases  # loyalty effect\n",
    ")\n",
    "conversion = np.random.binomial(1, conversion_prob, n)\n",
    "\n",
    "# Create DataFrame\n",
    "data = pd.DataFrame(\n",
    "    {\n",
    "        \"age\": age,\n",
    "        \"income\": income,\n",
    "        \"previous_purchases\": previous_purchases,\n",
    "        \"email_campaign\": email_campaign,\n",
    "        \"conversion\": conversion,\n",
    "    }\n",
    ")\n",
    "\n",
    "print(f\"Data shape: {data.shape}\")\n",
    "print(f\"Conversion rate: {data['conversion'].mean():.3f}\")\n",
    "print(f\"Email campaign rate: {data['email_campaign'].mean():.3f}\")"
   ]
  },
  {
   "cell_type": "markdown",
   "metadata": {},
   "source": [
    "## Step 2: Define the Causal Problem\n",
    "\n",
    "We need to specify:\n",
    "- **Treatment**: Email campaign (binary)\n",
    "- **Outcome**: Conversion (binary)\n",
    "- **Confounders**: Variables that affect both treatment and outcome"
   ]
  },
  {
   "cell_type": "code",
   "execution_count": null,
   "metadata": {},
   "outputs": [],
   "source": [
    "# Define treatment: email campaign\n",
    "treatment = TreatmentData(\n",
    "    values=data[\"email_campaign\"], name=\"email_campaign\", treatment_type=\"binary\"\n",
    ")\n",
    "\n",
    "# Define outcome: conversion\n",
    "outcome = OutcomeData(\n",
    "    values=data[\"conversion\"], name=\"conversion\", outcome_type=\"binary\"\n",
    ")\n",
    "\n",
    "# Define confounders: variables that affect both treatment and outcome\n",
    "covariates = CovariateData(\n",
    "    values=data[[\"age\", \"income\", \"previous_purchases\"]],\n",
    "    names=[\"age\", \"income\", \"previous_purchases\"],\n",
    ")"
   ]
  },
  {
   "cell_type": "markdown",
   "metadata": {},
   "source": [
    "## Step 3: Estimate Causal Effect\n",
    "\n",
    "We'll use G-computation (standardization) to estimate the Average Treatment Effect."
   ]
  },
  {
   "cell_type": "code",
   "execution_count": null,
   "metadata": {},
   "outputs": [],
   "source": [
    "# Initialize G-computation estimator\n",
    "estimator = GComputation()\n",
    "\n",
    "# Estimate the Average Treatment Effect (ATE)\n",
    "effect = estimator.estimate_ate(\n",
    "    treatment=treatment, outcome=outcome, covariates=covariates\n",
    ")\n",
    "\n",
    "# Display results\n",
    "print(\"📊 Causal Analysis Results\")\n",
    "print(\"=\" * 30)\n",
    "print(f\"Average Treatment Effect: {effect.ate:.4f}\")\n",
    "print(f\"95% Confidence Interval: [{effect.ci_lower:.4f}, {effect.ci_upper:.4f}]\")\n",
    "print(f\"Standard Error: {effect.se:.4f}\")\n",
    "print(f\"P-value: {effect.p_value:.4f}\")\n",
    "\n",
    "# Interpretation\n",
    "if effect.p_value < 0.05:\n",
    "    print(\"✅ Statistically significant effect detected!\")\n",
    "else:\n",
    "    print(\"❌ No statistically significant effect found.\")"
   ]
  },
  {
   "cell_type": "markdown",
   "metadata": {},
   "source": [
    "## Step 4: Compare with Naive Analysis\n",
    "\n",
    "Let's compare our causal estimate with a simple difference in means."
   ]
  },
  {
   "cell_type": "code",
   "execution_count": null,
   "metadata": {},
   "outputs": [],
   "source": [
    "# Naive comparison (biased due to confounding)\n",
    "treated_mean = data[data[\"email_campaign\"] == 1][\"conversion\"].mean()\n",
    "control_mean = data[data[\"email_campaign\"] == 0][\"conversion\"].mean()\n",
    "naive_diff = treated_mean - control_mean\n",
    "\n",
    "print(\"📈 Comparison of Methods\")\n",
    "print(\"=\" * 30)\n",
    "print(f\"Naive difference: {naive_diff:.4f}\")\n",
    "print(f\"Causal effect (G-computation): {effect.ate:.4f}\")\n",
    "print(f\"Difference: {abs(naive_diff - effect.ate):.4f}\")\n",
    "\n",
    "if abs(naive_diff - effect.ate) > 0.01:\n",
    "    print(\"⚠️  Significant confounding detected - causal methods were necessary!\")\n",
    "else:\n",
    "    print(\"✅ Results are similar - minimal confounding in this example\")"
   ]
  },
  {
   "cell_type": "markdown",
   "metadata": {},
   "source": [
    "## Step 5: Interpretation\n",
    "\n",
    "The Average Treatment Effect tells us the average increase in conversion probability if we sent email campaigns to all customers versus sending them to none."
   ]
  },
  {
   "cell_type": "code",
   "execution_count": null,
   "metadata": {},
   "outputs": [],
   "source": [
    "# Practical interpretation\n",
    "baseline_conversion_rate = control_mean\n",
    "relative_lift = effect.ate / baseline_conversion_rate\n",
    "\n",
    "print(\"📋 Practical Interpretation\")\n",
    "print(\"=\" * 30)\n",
    "print(f\"Baseline conversion rate: {baseline_conversion_rate:.1%}\")\n",
    "print(f\"Email campaign increases conversion by: {effect.ate:.1%} (absolute)\")\n",
    "print(f\"Relative lift: {relative_lift:.1%}\")\n",
    "\n",
    "# Business impact calculation\n",
    "if effect.p_value < 0.05:\n",
    "    customers_per_month = 10000  # Example\n",
    "    additional_conversions = customers_per_month * effect.ate\n",
    "    print(\n",
    "        f\"\\n💰 Business Impact (if we email {customers_per_month:,} customers/month):\"\n",
    "    )\n",
    "    print(f\"Additional conversions per month: {additional_conversions:.0f}\")"
   ]
  },
  {
   "cell_type": "markdown",
   "metadata": {},
   "source": [
    "## Next Steps\n",
    "\n",
    "This was a basic example. In practice, you would:\n",
    "\n",
    "1. **Run diagnostics** to check assumptions\n",
    "2. **Compare multiple methods** (IPW, AIPW, etc.)\n",
    "3. **Perform sensitivity analysis** for unmeasured confounding\n",
    "4. **Estimate heterogeneous effects** for different customer segments\n",
    "\n",
    "See the other notebooks and documentation for more advanced examples!"
   ]
  }
 ],
 "metadata": {
  "kernelspec": {
   "display_name": "Python 3",
   "language": "python",
   "name": "python3"
  },
  "language_info": {
   "codemirror_mode": {
    "name": "ipython",
    "version": 3
   },
   "file_extension": ".py",
   "mimetype": "text/x-python",
   "name": "python",
   "nbconvert_exporter": "python",
   "pygments_lexer": "ipython3",
   "version": "3.9.0"
  }
 },
 "nbformat": 4,
 "nbformat_minor": 4
}
